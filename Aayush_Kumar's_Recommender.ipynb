{
  "cells": [
    {
      "cell_type": "markdown",
      "metadata": {
        "id": "view-in-github",
        "colab_type": "text"
      },
      "source": [
        "<a href=\"https://colab.research.google.com/github/Aayushkumr/Music-Recommender-System/blob/main/Aayush_Kumar's_Recommender.ipynb\" target=\"_parent\"><img src=\"https://colab.research.google.com/assets/colab-badge.svg\" alt=\"Open In Colab\"/></a>"
      ]
    },
    {
      "cell_type": "markdown",
      "metadata": {
        "id": "2a7e9bb6"
      },
      "source": [
        "# Music Recommendation System using Spotify Dataset & Spotify APIs\n",
        "\n",
        "### 4th Semester Project Work\n",
        "\n",
        "##### Aayush Kumar\n",
        "##### Roll No.- 12112126\n",
        "##### CS-B6"
      ],
      "id": "2a7e9bb6"
    },
    {
      "cell_type": "code",
      "execution_count": null,
      "metadata": {
        "id": "493cc9e9"
      },
      "outputs": [],
      "source": [
        "import os\n",
        "import warnings\n",
        "import numpy as np\n",
        "import pandas as pd\n",
        "\n",
        "import seaborn as sns\n",
        "import plotly.express as px\n",
        "import matplotlib.pyplot as plt\n",
        "%matplotlib inline\n",
        "\n",
        "from sklearn.cluster import KMeans\n",
        "from sklearn.preprocessing import StandardScaler\n",
        "from sklearn.pipeline import Pipeline\n",
        "from sklearn.manifold import TSNE\n",
        "from sklearn.decomposition import PCA\n",
        "from sklearn.metrics import euclidean_distances\n",
        "from scipy.spatial.distance import cdist\n",
        "\n",
        "import warnings\n",
        "warnings.filterwarnings(\"ignore\")"
      ],
      "id": "493cc9e9"
    },
    {
      "cell_type": "code",
      "source": [
        "from google.colab import drive\n",
        "drive.mount('/content/drive')"
      ],
      "metadata": {
        "id": "cFKyh4tkg72S",
        "outputId": "7490b4f8-8fa6-4284-b211-68577db4f9e7",
        "colab": {
          "base_uri": "https://localhost:8080/"
        }
      },
      "id": "cFKyh4tkg72S",
      "execution_count": null,
      "outputs": [
        {
          "output_type": "stream",
          "name": "stdout",
          "text": [
            "Drive already mounted at /content/drive; to attempt to forcibly remount, call drive.mount(\"/content/drive\", force_remount=True).\n"
          ]
        }
      ]
    },
    {
      "cell_type": "code",
      "execution_count": null,
      "metadata": {
        "id": "fb24e670"
      },
      "outputs": [],
      "source": [
        "data = pd.read_csv(\"spotify_data/data.csv\")\n",
        "genre_data = pd.read_csv('spotify_data/data_w_genres.csv')\n",
        "year_data = pd.read_csv('spotify_data//data_by_year.csv')\n",
        "artist_data = pd.read_csv('spotify_data//data_by_artist.csv')"
      ],
      "id": "fb24e670"
    },
    {
      "cell_type": "code",
      "execution_count": null,
      "metadata": {
        "colab": {
          "base_uri": "https://localhost:8080/",
          "height": 548
        },
        "id": "7737a5e1",
        "outputId": "75a12d3d-8d60-4ce8-b8c7-9a3fd72440e1"
      },
      "outputs": [
        {
          "data": {
            "text/html": [
              "\n",
              "  <div id=\"df-c2993939-4d33-4f41-a40f-706a8bf35a10\">\n",
              "    <div class=\"colab-df-container\">\n",
              "      <div>\n",
              "<style scoped>\n",
              "    .dataframe tbody tr th:only-of-type {\n",
              "        vertical-align: middle;\n",
              "    }\n",
              "\n",
              "    .dataframe tbody tr th {\n",
              "        vertical-align: top;\n",
              "    }\n",
              "\n",
              "    .dataframe thead th {\n",
              "        text-align: right;\n",
              "    }\n",
              "</style>\n",
              "<table border=\"1\" class=\"dataframe\">\n",
              "  <thead>\n",
              "    <tr style=\"text-align: right;\">\n",
              "      <th></th>\n",
              "      <th>valence</th>\n",
              "      <th>year</th>\n",
              "      <th>acousticness</th>\n",
              "      <th>artists</th>\n",
              "      <th>danceability</th>\n",
              "      <th>duration_ms</th>\n",
              "      <th>energy</th>\n",
              "      <th>explicit</th>\n",
              "      <th>id</th>\n",
              "      <th>instrumentalness</th>\n",
              "      <th>key</th>\n",
              "      <th>liveness</th>\n",
              "      <th>loudness</th>\n",
              "      <th>mode</th>\n",
              "      <th>name</th>\n",
              "      <th>popularity</th>\n",
              "      <th>release_date</th>\n",
              "      <th>speechiness</th>\n",
              "      <th>tempo</th>\n",
              "    </tr>\n",
              "  </thead>\n",
              "  <tbody>\n",
              "    <tr>\n",
              "      <th>0</th>\n",
              "      <td>0.0594</td>\n",
              "      <td>1921</td>\n",
              "      <td>0.982</td>\n",
              "      <td>['Sergei Rachmaninoff', 'James Levine', 'Berli...</td>\n",
              "      <td>0.279</td>\n",
              "      <td>831667</td>\n",
              "      <td>0.211</td>\n",
              "      <td>0</td>\n",
              "      <td>4BJqT0PrAfrxzMOxytFOIz</td>\n",
              "      <td>0.878000</td>\n",
              "      <td>10</td>\n",
              "      <td>0.665</td>\n",
              "      <td>-20.096</td>\n",
              "      <td>1</td>\n",
              "      <td>Piano Concerto No. 3 in D Minor, Op. 30: III. ...</td>\n",
              "      <td>4</td>\n",
              "      <td>1921</td>\n",
              "      <td>0.0366</td>\n",
              "      <td>80.954</td>\n",
              "    </tr>\n",
              "    <tr>\n",
              "      <th>1</th>\n",
              "      <td>0.9630</td>\n",
              "      <td>1921</td>\n",
              "      <td>0.732</td>\n",
              "      <td>['Dennis Day']</td>\n",
              "      <td>0.819</td>\n",
              "      <td>180533</td>\n",
              "      <td>0.341</td>\n",
              "      <td>0</td>\n",
              "      <td>7xPhfUan2yNtyFG0cUWkt8</td>\n",
              "      <td>0.000000</td>\n",
              "      <td>7</td>\n",
              "      <td>0.160</td>\n",
              "      <td>-12.441</td>\n",
              "      <td>1</td>\n",
              "      <td>Clancy Lowered the Boom</td>\n",
              "      <td>5</td>\n",
              "      <td>1921</td>\n",
              "      <td>0.4150</td>\n",
              "      <td>60.936</td>\n",
              "    </tr>\n",
              "    <tr>\n",
              "      <th>2</th>\n",
              "      <td>0.0394</td>\n",
              "      <td>1921</td>\n",
              "      <td>0.961</td>\n",
              "      <td>['KHP Kridhamardawa Karaton Ngayogyakarta Hadi...</td>\n",
              "      <td>0.328</td>\n",
              "      <td>500062</td>\n",
              "      <td>0.166</td>\n",
              "      <td>0</td>\n",
              "      <td>1o6I8BglA6ylDMrIELygv1</td>\n",
              "      <td>0.913000</td>\n",
              "      <td>3</td>\n",
              "      <td>0.101</td>\n",
              "      <td>-14.850</td>\n",
              "      <td>1</td>\n",
              "      <td>Gati Bali</td>\n",
              "      <td>5</td>\n",
              "      <td>1921</td>\n",
              "      <td>0.0339</td>\n",
              "      <td>110.339</td>\n",
              "    </tr>\n",
              "    <tr>\n",
              "      <th>3</th>\n",
              "      <td>0.1650</td>\n",
              "      <td>1921</td>\n",
              "      <td>0.967</td>\n",
              "      <td>['Frank Parker']</td>\n",
              "      <td>0.275</td>\n",
              "      <td>210000</td>\n",
              "      <td>0.309</td>\n",
              "      <td>0</td>\n",
              "      <td>3ftBPsC5vPBKxYSee08FDH</td>\n",
              "      <td>0.000028</td>\n",
              "      <td>5</td>\n",
              "      <td>0.381</td>\n",
              "      <td>-9.316</td>\n",
              "      <td>1</td>\n",
              "      <td>Danny Boy</td>\n",
              "      <td>3</td>\n",
              "      <td>1921</td>\n",
              "      <td>0.0354</td>\n",
              "      <td>100.109</td>\n",
              "    </tr>\n",
              "    <tr>\n",
              "      <th>4</th>\n",
              "      <td>0.2530</td>\n",
              "      <td>1921</td>\n",
              "      <td>0.957</td>\n",
              "      <td>['Phil Regan']</td>\n",
              "      <td>0.418</td>\n",
              "      <td>166693</td>\n",
              "      <td>0.193</td>\n",
              "      <td>0</td>\n",
              "      <td>4d6HGyGT8e121BsdKmw9v6</td>\n",
              "      <td>0.000002</td>\n",
              "      <td>3</td>\n",
              "      <td>0.229</td>\n",
              "      <td>-10.096</td>\n",
              "      <td>1</td>\n",
              "      <td>When Irish Eyes Are Smiling</td>\n",
              "      <td>2</td>\n",
              "      <td>1921</td>\n",
              "      <td>0.0380</td>\n",
              "      <td>101.665</td>\n",
              "    </tr>\n",
              "  </tbody>\n",
              "</table>\n",
              "</div>\n",
              "      <button class=\"colab-df-convert\" onclick=\"convertToInteractive('df-c2993939-4d33-4f41-a40f-706a8bf35a10')\"\n",
              "              title=\"Convert this dataframe to an interactive table.\"\n",
              "              style=\"display:none;\">\n",
              "        \n",
              "  <svg xmlns=\"http://www.w3.org/2000/svg\" height=\"24px\"viewBox=\"0 0 24 24\"\n",
              "       width=\"24px\">\n",
              "    <path d=\"M0 0h24v24H0V0z\" fill=\"none\"/>\n",
              "    <path d=\"M18.56 5.44l.94 2.06.94-2.06 2.06-.94-2.06-.94-.94-2.06-.94 2.06-2.06.94zm-11 1L8.5 8.5l.94-2.06 2.06-.94-2.06-.94L8.5 2.5l-.94 2.06-2.06.94zm10 10l.94 2.06.94-2.06 2.06-.94-2.06-.94-.94-2.06-.94 2.06-2.06.94z\"/><path d=\"M17.41 7.96l-1.37-1.37c-.4-.4-.92-.59-1.43-.59-.52 0-1.04.2-1.43.59L10.3 9.45l-7.72 7.72c-.78.78-.78 2.05 0 2.83L4 21.41c.39.39.9.59 1.41.59.51 0 1.02-.2 1.41-.59l7.78-7.78 2.81-2.81c.8-.78.8-2.07 0-2.86zM5.41 20L4 18.59l7.72-7.72 1.47 1.35L5.41 20z\"/>\n",
              "  </svg>\n",
              "      </button>\n",
              "      \n",
              "  <style>\n",
              "    .colab-df-container {\n",
              "      display:flex;\n",
              "      flex-wrap:wrap;\n",
              "      gap: 12px;\n",
              "    }\n",
              "\n",
              "    .colab-df-convert {\n",
              "      background-color: #E8F0FE;\n",
              "      border: none;\n",
              "      border-radius: 50%;\n",
              "      cursor: pointer;\n",
              "      display: none;\n",
              "      fill: #1967D2;\n",
              "      height: 32px;\n",
              "      padding: 0 0 0 0;\n",
              "      width: 32px;\n",
              "    }\n",
              "\n",
              "    .colab-df-convert:hover {\n",
              "      background-color: #E2EBFA;\n",
              "      box-shadow: 0px 1px 2px rgba(60, 64, 67, 0.3), 0px 1px 3px 1px rgba(60, 64, 67, 0.15);\n",
              "      fill: #174EA6;\n",
              "    }\n",
              "\n",
              "    [theme=dark] .colab-df-convert {\n",
              "      background-color: #3B4455;\n",
              "      fill: #D2E3FC;\n",
              "    }\n",
              "\n",
              "    [theme=dark] .colab-df-convert:hover {\n",
              "      background-color: #434B5C;\n",
              "      box-shadow: 0px 1px 3px 1px rgba(0, 0, 0, 0.15);\n",
              "      filter: drop-shadow(0px 1px 2px rgba(0, 0, 0, 0.3));\n",
              "      fill: #FFFFFF;\n",
              "    }\n",
              "  </style>\n",
              "\n",
              "      <script>\n",
              "        const buttonEl =\n",
              "          document.querySelector('#df-c2993939-4d33-4f41-a40f-706a8bf35a10 button.colab-df-convert');\n",
              "        buttonEl.style.display =\n",
              "          google.colab.kernel.accessAllowed ? 'block' : 'none';\n",
              "\n",
              "        async function convertToInteractive(key) {\n",
              "          const element = document.querySelector('#df-c2993939-4d33-4f41-a40f-706a8bf35a10');\n",
              "          const dataTable =\n",
              "            await google.colab.kernel.invokeFunction('convertToInteractive',\n",
              "                                                     [key], {});\n",
              "          if (!dataTable) return;\n",
              "\n",
              "          const docLinkHtml = 'Like what you see? Visit the ' +\n",
              "            '<a target=\"_blank\" href=https://colab.research.google.com/notebooks/data_table.ipynb>data table notebook</a>'\n",
              "            + ' to learn more about interactive tables.';\n",
              "          element.innerHTML = '';\n",
              "          dataTable['output_type'] = 'display_data';\n",
              "          await google.colab.output.renderOutput(dataTable, element);\n",
              "          const docLink = document.createElement('div');\n",
              "          docLink.innerHTML = docLinkHtml;\n",
              "          element.appendChild(docLink);\n",
              "        }\n",
              "      </script>\n",
              "    </div>\n",
              "  </div>\n",
              "  "
            ],
            "text/plain": [
              "   valence  year  acousticness  \\\n",
              "0   0.0594  1921         0.982   \n",
              "1   0.9630  1921         0.732   \n",
              "2   0.0394  1921         0.961   \n",
              "3   0.1650  1921         0.967   \n",
              "4   0.2530  1921         0.957   \n",
              "\n",
              "                                             artists  danceability  \\\n",
              "0  ['Sergei Rachmaninoff', 'James Levine', 'Berli...         0.279   \n",
              "1                                     ['Dennis Day']         0.819   \n",
              "2  ['KHP Kridhamardawa Karaton Ngayogyakarta Hadi...         0.328   \n",
              "3                                   ['Frank Parker']         0.275   \n",
              "4                                     ['Phil Regan']         0.418   \n",
              "\n",
              "   duration_ms  energy  explicit                      id  instrumentalness  \\\n",
              "0       831667   0.211         0  4BJqT0PrAfrxzMOxytFOIz          0.878000   \n",
              "1       180533   0.341         0  7xPhfUan2yNtyFG0cUWkt8          0.000000   \n",
              "2       500062   0.166         0  1o6I8BglA6ylDMrIELygv1          0.913000   \n",
              "3       210000   0.309         0  3ftBPsC5vPBKxYSee08FDH          0.000028   \n",
              "4       166693   0.193         0  4d6HGyGT8e121BsdKmw9v6          0.000002   \n",
              "\n",
              "   key  liveness  loudness  mode  \\\n",
              "0   10     0.665   -20.096     1   \n",
              "1    7     0.160   -12.441     1   \n",
              "2    3     0.101   -14.850     1   \n",
              "3    5     0.381    -9.316     1   \n",
              "4    3     0.229   -10.096     1   \n",
              "\n",
              "                                                name  popularity release_date  \\\n",
              "0  Piano Concerto No. 3 in D Minor, Op. 30: III. ...           4         1921   \n",
              "1                            Clancy Lowered the Boom           5         1921   \n",
              "2                                          Gati Bali           5         1921   \n",
              "3                                          Danny Boy           3         1921   \n",
              "4                        When Irish Eyes Are Smiling           2         1921   \n",
              "\n",
              "   speechiness    tempo  \n",
              "0       0.0366   80.954  \n",
              "1       0.4150   60.936  \n",
              "2       0.0339  110.339  \n",
              "3       0.0354  100.109  \n",
              "4       0.0380  101.665  "
            ]
          },
          "execution_count": 3,
          "metadata": {},
          "output_type": "execute_result"
        }
      ],
      "source": [
        "data.head(5)"
      ],
      "id": "7737a5e1"
    },
    {
      "cell_type": "code",
      "execution_count": null,
      "metadata": {
        "id": "16e62283"
      },
      "outputs": [],
      "source": [
        "#grouping years into decades as a new column\n",
        "def get_decade(year):\n",
        "    period_start = int(year/10) * 10\n",
        "    decade = '{}s'.format(period_start)\n",
        "    return decade\n",
        "data['decade'] = data['year'].apply(get_decade)"
      ],
      "id": "16e62283"
    },
    {
      "cell_type": "code",
      "execution_count": null,
      "metadata": {
        "colab": {
          "base_uri": "https://localhost:8080/"
        },
        "id": "49d42486",
        "outputId": "ffbf072d-a729-4b4b-aa53-3959151ad4d7"
      },
      "outputs": [
        {
          "data": {
            "text/plain": [
              "0        1920s\n",
              "1        1920s\n",
              "2        1920s\n",
              "3        1920s\n",
              "4        1920s\n",
              "         ...  \n",
              "78456    1950s\n",
              "78457    1950s\n",
              "78458    1950s\n",
              "78459    1950s\n",
              "78460    1950s\n",
              "Name: decade, Length: 78461, dtype: object"
            ]
          },
          "execution_count": 5,
          "metadata": {},
          "output_type": "execute_result"
        }
      ],
      "source": [
        "data['decade']"
      ],
      "id": "49d42486"
    },
    {
      "cell_type": "markdown",
      "metadata": {
        "id": "5d760a33"
      },
      "source": [
        "## Scaling & Clustering genre_data"
      ],
      "id": "5d760a33"
    },
    {
      "cell_type": "code",
      "execution_count": null,
      "metadata": {
        "id": "6b18f278"
      },
      "outputs": [],
      "source": [
        "useful_cols = ['acousticness', 'danceability', 'energy', 'instrumentalness','liveness', 'loudness', 'speechiness', 'tempo', 'valence','duration_ms','key','mode']"
      ],
      "id": "6b18f278"
    },
    {
      "cell_type": "code",
      "execution_count": null,
      "metadata": {
        "id": "39c71d1a"
      },
      "outputs": [],
      "source": [
        "scaled_genre_data = StandardScaler().fit(genre_data[useful_cols])"
      ],
      "id": "39c71d1a"
    },
    {
      "cell_type": "code",
      "execution_count": null,
      "metadata": {
        "colab": {
          "base_uri": "https://localhost:8080/",
          "height": 416
        },
        "id": "4aa71683",
        "outputId": "a1666d3d-80c4-4b31-c788-524e8b23c255"
      },
      "outputs": [
        {
          "data": {
            "text/html": [
              "\n",
              "  <div id=\"df-e0925ae3-3a39-40c9-8410-778a55f59424\">\n",
              "    <div class=\"colab-df-container\">\n",
              "      <div>\n",
              "<style scoped>\n",
              "    .dataframe tbody tr th:only-of-type {\n",
              "        vertical-align: middle;\n",
              "    }\n",
              "\n",
              "    .dataframe tbody tr th {\n",
              "        vertical-align: top;\n",
              "    }\n",
              "\n",
              "    .dataframe thead th {\n",
              "        text-align: right;\n",
              "    }\n",
              "</style>\n",
              "<table border=\"1\" class=\"dataframe\">\n",
              "  <thead>\n",
              "    <tr style=\"text-align: right;\">\n",
              "      <th></th>\n",
              "      <th>genres</th>\n",
              "      <th>artists</th>\n",
              "      <th>acousticness</th>\n",
              "      <th>danceability</th>\n",
              "      <th>duration_ms</th>\n",
              "      <th>energy</th>\n",
              "      <th>instrumentalness</th>\n",
              "      <th>liveness</th>\n",
              "      <th>loudness</th>\n",
              "      <th>speechiness</th>\n",
              "      <th>tempo</th>\n",
              "      <th>valence</th>\n",
              "      <th>popularity</th>\n",
              "      <th>key</th>\n",
              "      <th>mode</th>\n",
              "      <th>count</th>\n",
              "    </tr>\n",
              "  </thead>\n",
              "  <tbody>\n",
              "    <tr>\n",
              "      <th>0</th>\n",
              "      <td>['show tunes']</td>\n",
              "      <td>\"Cats\" 1981 Original London Cast</td>\n",
              "      <td>0.590111</td>\n",
              "      <td>0.467222</td>\n",
              "      <td>250318.555556</td>\n",
              "      <td>0.394003</td>\n",
              "      <td>0.011400</td>\n",
              "      <td>0.290833</td>\n",
              "      <td>-14.448000</td>\n",
              "      <td>0.210389</td>\n",
              "      <td>117.518111</td>\n",
              "      <td>0.389500</td>\n",
              "      <td>38.333333</td>\n",
              "      <td>5</td>\n",
              "      <td>1</td>\n",
              "      <td>9</td>\n",
              "    </tr>\n",
              "    <tr>\n",
              "      <th>1</th>\n",
              "      <td>[]</td>\n",
              "      <td>\"Cats\" 1983 Broadway Cast</td>\n",
              "      <td>0.862538</td>\n",
              "      <td>0.441731</td>\n",
              "      <td>287280.000000</td>\n",
              "      <td>0.406808</td>\n",
              "      <td>0.081158</td>\n",
              "      <td>0.315215</td>\n",
              "      <td>-10.690000</td>\n",
              "      <td>0.176212</td>\n",
              "      <td>103.044154</td>\n",
              "      <td>0.268865</td>\n",
              "      <td>30.576923</td>\n",
              "      <td>5</td>\n",
              "      <td>1</td>\n",
              "      <td>26</td>\n",
              "    </tr>\n",
              "    <tr>\n",
              "      <th>2</th>\n",
              "      <td>[]</td>\n",
              "      <td>\"Fiddler On The Roof” Motion Picture Chorus</td>\n",
              "      <td>0.856571</td>\n",
              "      <td>0.348286</td>\n",
              "      <td>328920.000000</td>\n",
              "      <td>0.286571</td>\n",
              "      <td>0.024593</td>\n",
              "      <td>0.325786</td>\n",
              "      <td>-15.230714</td>\n",
              "      <td>0.118514</td>\n",
              "      <td>77.375857</td>\n",
              "      <td>0.354857</td>\n",
              "      <td>34.857143</td>\n",
              "      <td>0</td>\n",
              "      <td>1</td>\n",
              "      <td>7</td>\n",
              "    </tr>\n",
              "  </tbody>\n",
              "</table>\n",
              "</div>\n",
              "      <button class=\"colab-df-convert\" onclick=\"convertToInteractive('df-e0925ae3-3a39-40c9-8410-778a55f59424')\"\n",
              "              title=\"Convert this dataframe to an interactive table.\"\n",
              "              style=\"display:none;\">\n",
              "        \n",
              "  <svg xmlns=\"http://www.w3.org/2000/svg\" height=\"24px\"viewBox=\"0 0 24 24\"\n",
              "       width=\"24px\">\n",
              "    <path d=\"M0 0h24v24H0V0z\" fill=\"none\"/>\n",
              "    <path d=\"M18.56 5.44l.94 2.06.94-2.06 2.06-.94-2.06-.94-.94-2.06-.94 2.06-2.06.94zm-11 1L8.5 8.5l.94-2.06 2.06-.94-2.06-.94L8.5 2.5l-.94 2.06-2.06.94zm10 10l.94 2.06.94-2.06 2.06-.94-2.06-.94-.94-2.06-.94 2.06-2.06.94z\"/><path d=\"M17.41 7.96l-1.37-1.37c-.4-.4-.92-.59-1.43-.59-.52 0-1.04.2-1.43.59L10.3 9.45l-7.72 7.72c-.78.78-.78 2.05 0 2.83L4 21.41c.39.39.9.59 1.41.59.51 0 1.02-.2 1.41-.59l7.78-7.78 2.81-2.81c.8-.78.8-2.07 0-2.86zM5.41 20L4 18.59l7.72-7.72 1.47 1.35L5.41 20z\"/>\n",
              "  </svg>\n",
              "      </button>\n",
              "      \n",
              "  <style>\n",
              "    .colab-df-container {\n",
              "      display:flex;\n",
              "      flex-wrap:wrap;\n",
              "      gap: 12px;\n",
              "    }\n",
              "\n",
              "    .colab-df-convert {\n",
              "      background-color: #E8F0FE;\n",
              "      border: none;\n",
              "      border-radius: 50%;\n",
              "      cursor: pointer;\n",
              "      display: none;\n",
              "      fill: #1967D2;\n",
              "      height: 32px;\n",
              "      padding: 0 0 0 0;\n",
              "      width: 32px;\n",
              "    }\n",
              "\n",
              "    .colab-df-convert:hover {\n",
              "      background-color: #E2EBFA;\n",
              "      box-shadow: 0px 1px 2px rgba(60, 64, 67, 0.3), 0px 1px 3px 1px rgba(60, 64, 67, 0.15);\n",
              "      fill: #174EA6;\n",
              "    }\n",
              "\n",
              "    [theme=dark] .colab-df-convert {\n",
              "      background-color: #3B4455;\n",
              "      fill: #D2E3FC;\n",
              "    }\n",
              "\n",
              "    [theme=dark] .colab-df-convert:hover {\n",
              "      background-color: #434B5C;\n",
              "      box-shadow: 0px 1px 3px 1px rgba(0, 0, 0, 0.15);\n",
              "      filter: drop-shadow(0px 1px 2px rgba(0, 0, 0, 0.3));\n",
              "      fill: #FFFFFF;\n",
              "    }\n",
              "  </style>\n",
              "\n",
              "      <script>\n",
              "        const buttonEl =\n",
              "          document.querySelector('#df-e0925ae3-3a39-40c9-8410-778a55f59424 button.colab-df-convert');\n",
              "        buttonEl.style.display =\n",
              "          google.colab.kernel.accessAllowed ? 'block' : 'none';\n",
              "\n",
              "        async function convertToInteractive(key) {\n",
              "          const element = document.querySelector('#df-e0925ae3-3a39-40c9-8410-778a55f59424');\n",
              "          const dataTable =\n",
              "            await google.colab.kernel.invokeFunction('convertToInteractive',\n",
              "                                                     [key], {});\n",
              "          if (!dataTable) return;\n",
              "\n",
              "          const docLinkHtml = 'Like what you see? Visit the ' +\n",
              "            '<a target=\"_blank\" href=https://colab.research.google.com/notebooks/data_table.ipynb>data table notebook</a>'\n",
              "            + ' to learn more about interactive tables.';\n",
              "          element.innerHTML = '';\n",
              "          dataTable['output_type'] = 'display_data';\n",
              "          await google.colab.output.renderOutput(dataTable, element);\n",
              "          const docLink = document.createElement('div');\n",
              "          docLink.innerHTML = docLinkHtml;\n",
              "          element.appendChild(docLink);\n",
              "        }\n",
              "      </script>\n",
              "    </div>\n",
              "  </div>\n",
              "  "
            ],
            "text/plain": [
              "           genres                                      artists  acousticness  \\\n",
              "0  ['show tunes']             \"Cats\" 1981 Original London Cast      0.590111   \n",
              "1              []                    \"Cats\" 1983 Broadway Cast      0.862538   \n",
              "2              []  \"Fiddler On The Roof” Motion Picture Chorus      0.856571   \n",
              "\n",
              "   danceability    duration_ms    energy  instrumentalness  liveness  \\\n",
              "0      0.467222  250318.555556  0.394003          0.011400  0.290833   \n",
              "1      0.441731  287280.000000  0.406808          0.081158  0.315215   \n",
              "2      0.348286  328920.000000  0.286571          0.024593  0.325786   \n",
              "\n",
              "    loudness  speechiness       tempo   valence  popularity  key  mode  count  \n",
              "0 -14.448000     0.210389  117.518111  0.389500   38.333333    5     1      9  \n",
              "1 -10.690000     0.176212  103.044154  0.268865   30.576923    5     1     26  \n",
              "2 -15.230714     0.118514   77.375857  0.354857   34.857143    0     1      7  "
            ]
          },
          "execution_count": 8,
          "metadata": {},
          "output_type": "execute_result"
        }
      ],
      "source": [
        "genre_data.head(3)"
      ],
      "id": "4aa71683"
    },
    {
      "cell_type": "code",
      "execution_count": null,
      "metadata": {
        "colab": {
          "base_uri": "https://localhost:8080/"
        },
        "id": "dba5fc73",
        "outputId": "3cf24dc9-cde0-4e9c-f930-9d684f132009"
      },
      "outputs": [
        {
          "data": {
            "text/plain": [
              "(array([ 4.98372653e-01,  5.46490069e-01,  4.97488151e-01,  1.74756077e-01,\n",
              "         2.02440841e-01, -1.11404984e+01,  9.40143659e-02,  1.15844830e+02,\n",
              "         5.12722840e-01,  2.38877995e+05,  5.41290098e+00,  7.59170153e-01]),\n",
              " array([1.37350304e-01, 3.11419583e-02, 6.49641344e-02, 8.90430979e-02,\n",
              "        1.98475382e-02, 3.33119304e+01, 1.25404485e-02, 6.25169939e+02,\n",
              "        5.97394658e-02, 1.46724112e+10, 1.21138224e+01, 1.82830832e-01]))"
            ]
          },
          "execution_count": 9,
          "metadata": {},
          "output_type": "execute_result"
        }
      ],
      "source": [
        "scaled_genre_data.mean_ , scaled_genre_data.var_"
      ],
      "id": "dba5fc73"
    },
    {
      "cell_type": "code",
      "execution_count": null,
      "metadata": {
        "id": "508816ec"
      },
      "outputs": [],
      "source": [
        "scaled_genre_data = scaled_genre_data.transform(genre_data[useful_cols])"
      ],
      "id": "508816ec"
    },
    {
      "cell_type": "code",
      "execution_count": null,
      "metadata": {
        "colab": {
          "base_uri": "https://localhost:8080/"
        },
        "id": "db92071c",
        "outputId": "f247f1fc-d385-49eb-c282-e484b6823095"
      },
      "outputs": [
        {
          "data": {
            "text/plain": [
              "array([[ 0.24753501, -0.44918382, -0.40601288, ...,  0.09444882,\n",
              "        -0.11863294,  0.56322976],\n",
              "       [ 0.98261718, -0.59363517, -0.35577619, ...,  0.39958816,\n",
              "        -0.11863294,  0.56322976],\n",
              "       [ 0.96651653, -1.12315639, -0.82751178, ...,  0.74335182,\n",
              "        -1.55521158,  0.56322976],\n",
              "       ...,\n",
              "       [ 0.77462407,  0.13785911, -1.36961429, ..., -0.53079676,\n",
              "        -0.11863294,  0.56322976],\n",
              "       [-0.31670295, -1.09644214,  0.73960838, ...,  0.63801022,\n",
              "         1.60526142,  0.56322976],\n",
              "       [ 0.18787329, -0.56377624, -1.1083155 , ..., -0.00982414,\n",
              "         1.31794569,  0.56322976]])"
            ]
          },
          "execution_count": 11,
          "metadata": {},
          "output_type": "execute_result"
        }
      ],
      "source": [
        "scaled_genre_data"
      ],
      "id": "db92071c"
    },
    {
      "cell_type": "markdown",
      "source": [
        "#Using K means clustering algorithm to visualize various clusters in the given genre data\n"
      ],
      "metadata": {
        "id": "27g-MU4EWn3N"
      },
      "id": "27g-MU4EWn3N"
    },
    {
      "cell_type": "code",
      "execution_count": null,
      "metadata": {
        "id": "e6020833"
      },
      "outputs": [],
      "source": [
        "import sklearn.cluster as cluster\n",
        "\n",
        "Kmeans = cluster.KMeans(n_clusters=10, init=\"k-means++\")\n",
        "Kmeans = Kmeans.fit_predict(scaled_genre_data)\n"
      ],
      "id": "e6020833"
    },
    {
      "cell_type": "code",
      "execution_count": null,
      "metadata": {
        "colab": {
          "base_uri": "https://localhost:8080/"
        },
        "id": "4fc0ab28",
        "outputId": "d13340a9-2771-498a-e0ff-ee30221bef5c"
      },
      "outputs": [
        {
          "data": {
            "text/plain": [
              "array([1, 7, 7, ..., 1, 5, 7], dtype=int32)"
            ]
          },
          "execution_count": 13,
          "metadata": {},
          "output_type": "execute_result"
        }
      ],
      "source": [
        "Kmeans"
      ],
      "id": "4fc0ab28"
    },
    {
      "cell_type": "code",
      "execution_count": null,
      "metadata": {
        "id": "362c9388"
      },
      "outputs": [],
      "source": [
        "genre_data['Cluster'] = Kmeans\n",
        "X = genre_data.select_dtypes(np.number)"
      ],
      "id": "362c9388"
    },
    {
      "cell_type": "code",
      "execution_count": null,
      "metadata": {
        "colab": {
          "base_uri": "https://localhost:8080/",
          "height": 531
        },
        "id": "fea98a3f",
        "outputId": "438c8615-551f-4ff1-e1c8-40da16afb47f"
      },
      "outputs": [
        {
          "data": {
            "text/html": [
              "\n",
              "  <div id=\"df-190fd8d1-2928-4176-a026-b887b3eb3dfc\">\n",
              "    <div class=\"colab-df-container\">\n",
              "      <div>\n",
              "<style scoped>\n",
              "    .dataframe tbody tr th:only-of-type {\n",
              "        vertical-align: middle;\n",
              "    }\n",
              "\n",
              "    .dataframe tbody tr th {\n",
              "        vertical-align: top;\n",
              "    }\n",
              "\n",
              "    .dataframe thead th {\n",
              "        text-align: right;\n",
              "    }\n",
              "</style>\n",
              "<table border=\"1\" class=\"dataframe\">\n",
              "  <thead>\n",
              "    <tr style=\"text-align: right;\">\n",
              "      <th></th>\n",
              "      <th>genres</th>\n",
              "      <th>artists</th>\n",
              "      <th>acousticness</th>\n",
              "      <th>danceability</th>\n",
              "      <th>duration_ms</th>\n",
              "      <th>energy</th>\n",
              "      <th>instrumentalness</th>\n",
              "      <th>liveness</th>\n",
              "      <th>loudness</th>\n",
              "      <th>speechiness</th>\n",
              "      <th>tempo</th>\n",
              "      <th>valence</th>\n",
              "      <th>popularity</th>\n",
              "      <th>key</th>\n",
              "      <th>mode</th>\n",
              "      <th>count</th>\n",
              "      <th>Cluster</th>\n",
              "    </tr>\n",
              "  </thead>\n",
              "  <tbody>\n",
              "    <tr>\n",
              "      <th>0</th>\n",
              "      <td>['show tunes']</td>\n",
              "      <td>\"Cats\" 1981 Original London Cast</td>\n",
              "      <td>0.590111</td>\n",
              "      <td>0.467222</td>\n",
              "      <td>250318.555556</td>\n",
              "      <td>0.394003</td>\n",
              "      <td>0.011400</td>\n",
              "      <td>0.290833</td>\n",
              "      <td>-14.448000</td>\n",
              "      <td>0.210389</td>\n",
              "      <td>117.518111</td>\n",
              "      <td>0.389500</td>\n",
              "      <td>38.333333</td>\n",
              "      <td>5</td>\n",
              "      <td>1</td>\n",
              "      <td>9</td>\n",
              "      <td>1</td>\n",
              "    </tr>\n",
              "    <tr>\n",
              "      <th>1</th>\n",
              "      <td>[]</td>\n",
              "      <td>\"Cats\" 1983 Broadway Cast</td>\n",
              "      <td>0.862538</td>\n",
              "      <td>0.441731</td>\n",
              "      <td>287280.000000</td>\n",
              "      <td>0.406808</td>\n",
              "      <td>0.081158</td>\n",
              "      <td>0.315215</td>\n",
              "      <td>-10.690000</td>\n",
              "      <td>0.176212</td>\n",
              "      <td>103.044154</td>\n",
              "      <td>0.268865</td>\n",
              "      <td>30.576923</td>\n",
              "      <td>5</td>\n",
              "      <td>1</td>\n",
              "      <td>26</td>\n",
              "      <td>7</td>\n",
              "    </tr>\n",
              "    <tr>\n",
              "      <th>2</th>\n",
              "      <td>[]</td>\n",
              "      <td>\"Fiddler On The Roof” Motion Picture Chorus</td>\n",
              "      <td>0.856571</td>\n",
              "      <td>0.348286</td>\n",
              "      <td>328920.000000</td>\n",
              "      <td>0.286571</td>\n",
              "      <td>0.024593</td>\n",
              "      <td>0.325786</td>\n",
              "      <td>-15.230714</td>\n",
              "      <td>0.118514</td>\n",
              "      <td>77.375857</td>\n",
              "      <td>0.354857</td>\n",
              "      <td>34.857143</td>\n",
              "      <td>0</td>\n",
              "      <td>1</td>\n",
              "      <td>7</td>\n",
              "      <td>7</td>\n",
              "    </tr>\n",
              "    <tr>\n",
              "      <th>3</th>\n",
              "      <td>[]</td>\n",
              "      <td>\"Fiddler On The Roof” Motion Picture Orchestra</td>\n",
              "      <td>0.884926</td>\n",
              "      <td>0.425074</td>\n",
              "      <td>262890.962963</td>\n",
              "      <td>0.245770</td>\n",
              "      <td>0.073587</td>\n",
              "      <td>0.275481</td>\n",
              "      <td>-15.639370</td>\n",
              "      <td>0.123200</td>\n",
              "      <td>88.667630</td>\n",
              "      <td>0.372030</td>\n",
              "      <td>34.851852</td>\n",
              "      <td>0</td>\n",
              "      <td>1</td>\n",
              "      <td>27</td>\n",
              "      <td>7</td>\n",
              "    </tr>\n",
              "    <tr>\n",
              "      <th>4</th>\n",
              "      <td>[]</td>\n",
              "      <td>\"Joseph And The Amazing Technicolor Dreamcoat\"...</td>\n",
              "      <td>0.510714</td>\n",
              "      <td>0.467143</td>\n",
              "      <td>270436.142857</td>\n",
              "      <td>0.488286</td>\n",
              "      <td>0.009400</td>\n",
              "      <td>0.195000</td>\n",
              "      <td>-10.236714</td>\n",
              "      <td>0.098543</td>\n",
              "      <td>122.835857</td>\n",
              "      <td>0.482286</td>\n",
              "      <td>43.000000</td>\n",
              "      <td>5</td>\n",
              "      <td>1</td>\n",
              "      <td>7</td>\n",
              "      <td>1</td>\n",
              "    </tr>\n",
              "  </tbody>\n",
              "</table>\n",
              "</div>\n",
              "      <button class=\"colab-df-convert\" onclick=\"convertToInteractive('df-190fd8d1-2928-4176-a026-b887b3eb3dfc')\"\n",
              "              title=\"Convert this dataframe to an interactive table.\"\n",
              "              style=\"display:none;\">\n",
              "        \n",
              "  <svg xmlns=\"http://www.w3.org/2000/svg\" height=\"24px\"viewBox=\"0 0 24 24\"\n",
              "       width=\"24px\">\n",
              "    <path d=\"M0 0h24v24H0V0z\" fill=\"none\"/>\n",
              "    <path d=\"M18.56 5.44l.94 2.06.94-2.06 2.06-.94-2.06-.94-.94-2.06-.94 2.06-2.06.94zm-11 1L8.5 8.5l.94-2.06 2.06-.94-2.06-.94L8.5 2.5l-.94 2.06-2.06.94zm10 10l.94 2.06.94-2.06 2.06-.94-2.06-.94-.94-2.06-.94 2.06-2.06.94z\"/><path d=\"M17.41 7.96l-1.37-1.37c-.4-.4-.92-.59-1.43-.59-.52 0-1.04.2-1.43.59L10.3 9.45l-7.72 7.72c-.78.78-.78 2.05 0 2.83L4 21.41c.39.39.9.59 1.41.59.51 0 1.02-.2 1.41-.59l7.78-7.78 2.81-2.81c.8-.78.8-2.07 0-2.86zM5.41 20L4 18.59l7.72-7.72 1.47 1.35L5.41 20z\"/>\n",
              "  </svg>\n",
              "      </button>\n",
              "      \n",
              "  <style>\n",
              "    .colab-df-container {\n",
              "      display:flex;\n",
              "      flex-wrap:wrap;\n",
              "      gap: 12px;\n",
              "    }\n",
              "\n",
              "    .colab-df-convert {\n",
              "      background-color: #E8F0FE;\n",
              "      border: none;\n",
              "      border-radius: 50%;\n",
              "      cursor: pointer;\n",
              "      display: none;\n",
              "      fill: #1967D2;\n",
              "      height: 32px;\n",
              "      padding: 0 0 0 0;\n",
              "      width: 32px;\n",
              "    }\n",
              "\n",
              "    .colab-df-convert:hover {\n",
              "      background-color: #E2EBFA;\n",
              "      box-shadow: 0px 1px 2px rgba(60, 64, 67, 0.3), 0px 1px 3px 1px rgba(60, 64, 67, 0.15);\n",
              "      fill: #174EA6;\n",
              "    }\n",
              "\n",
              "    [theme=dark] .colab-df-convert {\n",
              "      background-color: #3B4455;\n",
              "      fill: #D2E3FC;\n",
              "    }\n",
              "\n",
              "    [theme=dark] .colab-df-convert:hover {\n",
              "      background-color: #434B5C;\n",
              "      box-shadow: 0px 1px 3px 1px rgba(0, 0, 0, 0.15);\n",
              "      filter: drop-shadow(0px 1px 2px rgba(0, 0, 0, 0.3));\n",
              "      fill: #FFFFFF;\n",
              "    }\n",
              "  </style>\n",
              "\n",
              "      <script>\n",
              "        const buttonEl =\n",
              "          document.querySelector('#df-190fd8d1-2928-4176-a026-b887b3eb3dfc button.colab-df-convert');\n",
              "        buttonEl.style.display =\n",
              "          google.colab.kernel.accessAllowed ? 'block' : 'none';\n",
              "\n",
              "        async function convertToInteractive(key) {\n",
              "          const element = document.querySelector('#df-190fd8d1-2928-4176-a026-b887b3eb3dfc');\n",
              "          const dataTable =\n",
              "            await google.colab.kernel.invokeFunction('convertToInteractive',\n",
              "                                                     [key], {});\n",
              "          if (!dataTable) return;\n",
              "\n",
              "          const docLinkHtml = 'Like what you see? Visit the ' +\n",
              "            '<a target=\"_blank\" href=https://colab.research.google.com/notebooks/data_table.ipynb>data table notebook</a>'\n",
              "            + ' to learn more about interactive tables.';\n",
              "          element.innerHTML = '';\n",
              "          dataTable['output_type'] = 'display_data';\n",
              "          await google.colab.output.renderOutput(dataTable, element);\n",
              "          const docLink = document.createElement('div');\n",
              "          docLink.innerHTML = docLinkHtml;\n",
              "          element.appendChild(docLink);\n",
              "        }\n",
              "      </script>\n",
              "    </div>\n",
              "  </div>\n",
              "  "
            ],
            "text/plain": [
              "           genres                                            artists  \\\n",
              "0  ['show tunes']                   \"Cats\" 1981 Original London Cast   \n",
              "1              []                          \"Cats\" 1983 Broadway Cast   \n",
              "2              []        \"Fiddler On The Roof” Motion Picture Chorus   \n",
              "3              []     \"Fiddler On The Roof” Motion Picture Orchestra   \n",
              "4              []  \"Joseph And The Amazing Technicolor Dreamcoat\"...   \n",
              "\n",
              "   acousticness  danceability    duration_ms    energy  instrumentalness  \\\n",
              "0      0.590111      0.467222  250318.555556  0.394003          0.011400   \n",
              "1      0.862538      0.441731  287280.000000  0.406808          0.081158   \n",
              "2      0.856571      0.348286  328920.000000  0.286571          0.024593   \n",
              "3      0.884926      0.425074  262890.962963  0.245770          0.073587   \n",
              "4      0.510714      0.467143  270436.142857  0.488286          0.009400   \n",
              "\n",
              "   liveness   loudness  speechiness       tempo   valence  popularity  key  \\\n",
              "0  0.290833 -14.448000     0.210389  117.518111  0.389500   38.333333    5   \n",
              "1  0.315215 -10.690000     0.176212  103.044154  0.268865   30.576923    5   \n",
              "2  0.325786 -15.230714     0.118514   77.375857  0.354857   34.857143    0   \n",
              "3  0.275481 -15.639370     0.123200   88.667630  0.372030   34.851852    0   \n",
              "4  0.195000 -10.236714     0.098543  122.835857  0.482286   43.000000    5   \n",
              "\n",
              "   mode  count  Cluster  \n",
              "0     1      9        1  \n",
              "1     1     26        7  \n",
              "2     1      7        7  \n",
              "3     1     27        7  \n",
              "4     1      7        1  "
            ]
          },
          "execution_count": 16,
          "metadata": {},
          "output_type": "execute_result"
        }
      ],
      "source": [
        "genre_data.head(5)"
      ],
      "id": "fea98a3f"
    },
    {
      "cell_type": "markdown",
      "source": [
        "# Visualizing the Clusters in genre data with t-SNE\n",
        "\n",
        "## It is basically converting this multi-dimentional data into 2 dimensions x & y to project it (or visualize it) easily in graphical format"
      ],
      "metadata": {
        "id": "IfPIgPDmWxMy"
      },
      "id": "IfPIgPDmWxMy"
    },
    {
      "cell_type": "code",
      "execution_count": null,
      "metadata": {
        "colab": {
          "base_uri": "https://localhost:8080/",
          "height": 559
        },
        "id": "bafdd522",
        "outputId": "9fa286f9-befd-403e-87fd-9e1f365d5dc9"
      },
      "outputs": [],
      "source": [
        "from sklearn.manifold import TSNE\n",
        "\n",
        "tsne_pipeline = Pipeline([('scaler', StandardScaler()), ('tsne', TSNE(n_components=2, verbose=1))])\n",
        "\n",
        "genre_embedding = tsne_pipeline.fit_transform(X)\n",
        "projection = pd.DataFrame(columns=['x', 'y'], data=genre_embedding)\n",
        "projection['genres'] = genre_data['genres']\n",
        "projection['cluster'] = genre_data['Cluster']\n",
        "\n",
        "fig = px.scatter(projection, x='x', y='y', color='cluster', hover_data=['x', 'y', 'genres'])\n",
        "fig.show()"
      ],
      "id": "bafdd522"
    },
    {
      "cell_type": "markdown",
      "metadata": {
        "id": "af7e2d69"
      },
      "source": [
        "## Scaling & Clustering Song Data"
      ],
      "id": "af7e2d69"
    },
    {
      "cell_type": "markdown",
      "source": [
        "Using Elbow method to find no. of clusters required"
      ],
      "metadata": {
        "id": "KUJQZ9vEowJJ"
      },
      "id": "KUJQZ9vEowJJ"
    },
    {
      "cell_type": "markdown",
      "source": [
        "Applying K-means clustering with calculated no of clusters"
      ],
      "metadata": {
        "id": "_ZWlPEqoo6Vu"
      },
      "id": "_ZWlPEqoo6Vu"
    },
    {
      "cell_type": "code",
      "execution_count": null,
      "metadata": {
        "id": "2c7dc231"
      },
      "outputs": [],
      "source": [
        "song_cluster_pipeline = Pipeline([('scaler', StandardScaler()),('kmeans', KMeans(n_clusters=20,verbose=False))],\n",
        "                                 verbose=False)\n",
        "\n",
        "# here 'data' is song_data\n",
        "X = data.select_dtypes(np.number)\n",
        "\n",
        "number_cols = list(X.columns)\n",
        "song_cluster_pipeline.fit(X)\n",
        "song_cluster_labels = song_cluster_pipeline.predict(X)\n",
        "data['cluster_label'] = song_cluster_labels"
      ],
      "id": "2c7dc231"
    },
    {
      "cell_type": "markdown",
      "source": [
        "# Visualizing the Clusters with PCA\n",
        "#### Principal Component Analysis or PCA is a dimensionality-reduction method that is often used to reduce the dimensionality of large data sets.\n",
        "\n",
        "#### PCA Steps:\n"
      ],
      "metadata": {
        "id": "k60j0mOFXRqF"
      },
      "id": "k60j0mOFXRqF"
    },
    {
      "cell_type": "code",
      "execution_count": null,
      "metadata": {
        "colab": {
          "background_save": true,
          "base_uri": "https://localhost:8080/",
          "height": 542
        },
        "id": "15351229",
        "outputId": "62a8b748-da09-4957-9324-2c3b4121b211"
      },
      "outputs": [],
      "source": [
        "from sklearn.decomposition import PCA\n",
        "\n",
        "pca_pipeline = Pipeline([('scaler', StandardScaler()), ('PCA', PCA(n_components=2))])\n",
        "song_embedding = pca_pipeline.fit_transform(X)\n",
        "projection = pd.DataFrame(columns=['x', 'y'], data=song_embedding)\n",
        "projection['title'] = data['name']\n",
        "projection['cluster'] = data['cluster_label']\n",
        "\n",
        "fig = px.scatter(\n",
        "    projection, x='x', y='y', color='cluster', hover_data=['x', 'y', 'title'])\n",
        "fig.show()"
      ],
      "id": "15351229"
    },
    {
      "cell_type": "markdown",
      "metadata": {
        "id": "438b1d94"
      },
      "source": [
        "## Using Spotify APIs (using spotipy: python library )"
      ],
      "id": "438b1d94"
    },
    {
      "cell_type": "code",
      "source": [
        "pip install spotipy"
      ],
      "metadata": {
        "id": "CAjsGUoDVCbZ"
      },
      "id": "CAjsGUoDVCbZ",
      "execution_count": null,
      "outputs": []
    },
    {
      "cell_type": "code",
      "execution_count": null,
      "metadata": {
        "id": "77a196c7"
      },
      "outputs": [],
      "source": [
        "import spotipy\n",
        "from spotipy.oauth2 import SpotifyClientCredentials\n",
        "c_id = 'd93d61efd33f464fa828986f5be14f11'\n",
        "c_secret = '216b06c55e93409b95fac81c14dd2f52'\n",
        "client_credentials_manager = SpotifyClientCredentials(client_id=c_id, client_secret=c_secret)\n",
        "sp = spotipy.Spotify(client_credentials_manager= client_credentials_manager)"
      ],
      "id": "77a196c7"
    },
    {
      "cell_type": "code",
      "execution_count": null,
      "metadata": {
        "id": "7141ede8"
      },
      "outputs": [],
      "source": [
        "song = sp.search(q='track:perfect')"
      ],
      "id": "7141ede8"
    },
    {
      "cell_type": "code",
      "execution_count": null,
      "metadata": {
        "id": "5833a694",
        "outputId": "fb4199b4-c24d-4764-c79e-2fc659b6c554",
        "colab": {
          "base_uri": "https://localhost:8080/"
        }
      },
      "outputs": [
        {
          "output_type": "stream",
          "name": "stdout",
          "text": [
            "Perfect\n",
            "She Looks So Perfect\n",
            "The Perfect Girl\n",
            "Perfect\n",
            "Perfect\n",
            "Perfect\n",
            "Perfect\n",
            "Perfect\n",
            "FUCKING YOUNG / PERFECT (feat. Charlie Wilson, Chaz Bundick, Sydney Bennett & Kali Uchis)\n",
            "Nobody's Perfect\n"
          ]
        }
      ],
      "source": [
        "for i in song['tracks']['items']:\n",
        " print(i['name'])"
      ],
      "id": "5833a694"
    },
    {
      "cell_type": "code",
      "execution_count": null,
      "metadata": {
        "id": "98732a8f",
        "outputId": "3dd06d59-32ed-448b-fa77-6dc3f2a55fd8",
        "colab": {
          "base_uri": "https://localhost:8080/"
        }
      },
      "outputs": [
        {
          "output_type": "execute_result",
          "data": {
            "text/plain": [
              "10"
            ]
          },
          "metadata": {},
          "execution_count": 29
        }
      ],
      "source": [
        "len(song['tracks']['items'])"
      ],
      "id": "98732a8f"
    },
    {
      "cell_type": "code",
      "execution_count": null,
      "metadata": {
        "id": "0c9dcced"
      },
      "outputs": [],
      "source": [
        "from collections import defaultdict\n",
        "\n",
        "def find_song(name):\n",
        "    song_data = defaultdict()\n",
        "    results = sp.search(q= 'track: {} '.format(name), limit=1)\n",
        "   # print(results)\n",
        "    if results['tracks']['items'] == []:\n",
        "        print('song not found')\n",
        "    if results['tracks']['items'] == []:\n",
        "        return None\n",
        "\n",
        "    results = results['tracks']['items'][0]\n",
        "\n",
        "    track_id = results['id']\n",
        "    audio_features = sp.audio_features(track_id)[0]\n",
        "\n",
        "   # print(audio_features)\n",
        "\n",
        "    song_data['name'] = [results['name']]\n",
        "    song_data['year'] = [int(results['album']['release_date'][0:4])]\n",
        "    song_data['explicit'] = [int(results['explicit'])]\n",
        "    song_data['duration_ms'] = [results['duration_ms']]\n",
        "    song_data['popularity'] = [results['popularity']]\n",
        "\n",
        "    for key, value in audio_features.items():\n",
        "        song_data[key] = value\n",
        "\n",
        "    return pd.DataFrame(song_data)"
      ],
      "id": "0c9dcced"
    },
    {
      "cell_type": "code",
      "execution_count": null,
      "metadata": {
        "id": "01a62421"
      },
      "outputs": [],
      "source": [
        "mysong = find_song('anime')\n",
        "mysong"
      ],
      "id": "01a62421"
    },
    {
      "cell_type": "code",
      "execution_count": null,
      "metadata": {
        "id": "d83fe12f"
      },
      "outputs": [],
      "source": [
        "from collections import defaultdict\n",
        "from sklearn.metrics import euclidean_distances\n",
        "from scipy.spatial.distance import cdist\n",
        "import difflib\n",
        "\n",
        "number_cols = ['valence','year', 'acousticness', 'danceability', 'duration_ms', 'energy', 'explicit',\n",
        " 'instrumentalness', 'key', 'liveness', 'loudness', 'mode', 'popularity', 'speechiness', 'tempo']\n",
        "\n",
        "\n",
        "def get_song_data(song, spotify_data):\n",
        "\n",
        "#      try:\n",
        "#          song_data = spotify_data[(spotify_data['name'] == song['name'])\n",
        "#                                  & (spotify_data['year'] == song['year'])].iloc[0]\n",
        "#          return song_data\n",
        "\n",
        "#      except IndexError:\n",
        "        return find_song(song['name'])"
      ],
      "id": "d83fe12f"
    },
    {
      "cell_type": "markdown",
      "source": [
        "#### In this function we are taking the mean of all the song vectors to get a single mean vector which will be used for recommendation  \n",
        "\n"
      ],
      "metadata": {
        "id": "mI7f0YdYXijy"
      },
      "id": "mI7f0YdYXijy"
    },
    {
      "cell_type": "code",
      "source": [
        "def get_mean_vector(song_list, spotify_data):\n",
        "\n",
        "    song_vectors = []\n",
        "\n",
        "    for song in song_list:\n",
        "        song_data = get_song_data(song, spotify_data)\n",
        "        if song_data is None:\n",
        "            print('Warning: {} does not exist in Spotify or in database'.format(song['name']))\n",
        "            continue\n",
        "        song_vector = song_data[number_cols].values\n",
        "        song_vectors.append(song_vector)\n",
        "\n",
        "    song_matrix = np.array(list(song_vectors))\n",
        "    return np.mean(song_matrix, axis=0)\n",
        "\n",
        "\n",
        "def flatten_dict_list(dict_list):\n",
        "\n",
        "    flattened_dict = defaultdict()\n",
        "   # print(dict_list)\n",
        "    for key in dict_list[0].keys():\n",
        "        flattened_dict[key] = []\n",
        "\n",
        "    for dictionary in dict_list:\n",
        "        # print(dictionary)\n",
        "        for key, value in dictionary.items():\n",
        "            flattened_dict[key].append(value)\n",
        "\n",
        "    return flattened_dict\n",
        "\n",
        "\n",
        "def recommend_songs( song_list, spotify_data, n_songs=10):\n",
        "\n",
        "    metadata_cols = ['name','year', 'artists']\n",
        "   # print(song_list)\n",
        "    song_dict = flatten_dict_list(song_list)\n",
        "\n",
        "    song_center = get_mean_vector(song_list, spotify_data)\n",
        "    scaler = song_cluster_pipeline.steps[0][1]\n",
        "   # print(song_cluster_pipeline)\n",
        "    scaled_data = scaler.transform(spotify_data[useful_cols])\n",
        "    scaled_song_center = scaler.transform(song_center.reshape(1, -1))\n",
        "    #we are calculating euledian distances of this mean vector from each record within the song_data\n",
        "    distances = cdist(scaled_song_center, scaled_data, 'cosine')\n",
        "    # sorting the distnces to get the nearest songs from dataset\n",
        "    index = list(np.argsort(distances)[:, :n_songs][0])\n",
        "\n",
        "    # returning the nearest songs\n",
        "    rec_songs = spotify_data.iloc[index]\n",
        "    rec_songs = rec_songs[~rec_songs['name'].isin(song_dict['name'])]\n",
        "    return rec_songs['name'].to_dict()"
      ],
      "metadata": {
        "id": "21BwKR1-XhUF"
      },
      "id": "21BwKR1-XhUF",
      "execution_count": null,
      "outputs": []
    },
    {
      "cell_type": "code",
      "execution_count": null,
      "metadata": {
        "id": "8376ada5",
        "outputId": "ec93ac5a-4236-4e53-e3a1-b5220c399abd",
        "colab": {
          "base_uri": "https://localhost:8080/"
        }
      },
      "outputs": [
        {
          "output_type": "execute_result",
          "data": {
            "text/plain": [
              "array([[ 3.105000e-01,  2.017000e+03,  4.795000e-01,  6.025000e-01,\n",
              "         2.766995e+05,  5.245000e-01,  0.000000e+00,  2.555000e-04,\n",
              "         5.000000e+00,  1.165000e-01, -5.944000e+00,  1.000000e+00,\n",
              "         7.750000e+01,  2.575000e-02,  1.105055e+02]])"
            ]
          },
          "metadata": {},
          "execution_count": 62
        }
      ],
      "source": [
        "get_mean_vector([{'name': 'hawayein'},{'name': 'perfect'}], data)"
      ],
      "id": "8376ada5"
    },
    {
      "cell_type": "code",
      "execution_count": null,
      "metadata": {
        "id": "5baf2dc2",
        "outputId": "afb50821-f824-4ea1-ec0b-bb174a95ec55",
        "colab": {
          "base_uri": "https://localhost:8080/"
        }
      },
      "outputs": [
        {
          "output_type": "execute_result",
          "data": {
            "text/plain": [
              "{17027: 'Bleeding Love',\n",
              " 17843: 'Country Boy (feat. George Jones & Charlie Daniels)',\n",
              " 56725: 'The Village',\n",
              " 56834: \"I Don't Want You Back\",\n",
              " 57021: 'Some Things Never Change'}"
            ]
          },
          "metadata": {},
          "execution_count": 63
        }
      ],
      "source": [
        "recommend_songs([{'name': 'hawayein','year' :2001},{'name': 'perfect', 'year' : 2009}], data, 5)"
      ],
      "id": "5baf2dc2"
    },
    {
      "cell_type": "code",
      "source": [],
      "metadata": {
        "id": "nlQE-n9hVogP"
      },
      "id": "nlQE-n9hVogP",
      "execution_count": null,
      "outputs": []
    }
  ],
  "metadata": {
    "colab": {
      "provenance": [],
      "include_colab_link": true
    },
    "kernelspec": {
      "display_name": "Python 3 (ipykernel)",
      "language": "python",
      "name": "python3"
    },
    "language_info": {
      "codemirror_mode": {
        "name": "ipython",
        "version": 3
      },
      "file_extension": ".py",
      "mimetype": "text/x-python",
      "name": "python",
      "nbconvert_exporter": "python",
      "pygments_lexer": "ipython3",
      "version": "3.9.7"
    }
  },
  "nbformat": 4,
  "nbformat_minor": 5
}